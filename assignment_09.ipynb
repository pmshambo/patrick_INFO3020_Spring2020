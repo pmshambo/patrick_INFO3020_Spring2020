{
  "nbformat": 4,
  "nbformat_minor": 0,
  "metadata": {
    "colab": {
      "name": "assignment_09.ipynb",
      "provenance": [],
      "collapsed_sections": [],
      "authorship_tag": "ABX9TyMWczQ6u74wN3XBfL7b8XCc",
      "include_colab_link": true
    },
    "kernelspec": {
      "name": "python3",
      "display_name": "Python 3"
    }
  },
  "cells": [
    {
      "cell_type": "markdown",
      "metadata": {
        "id": "view-in-github",
        "colab_type": "text"
      },
      "source": [
        "<a href=\"https://colab.research.google.com/github/pmshambo/patrick_INFO3020_Spring2020/blob/master/assignment_09.ipynb\" target=\"_parent\"><img src=\"https://colab.research.google.com/assets/colab-badge.svg\" alt=\"Open In Colab\"/></a>"
      ]
    },
    {
      "cell_type": "code",
      "metadata": {
        "id": "eLl_67mkcOg9",
        "colab_type": "code",
        "outputId": "4d13ce82-1161-4796-f8bb-4cc9bc492843",
        "colab": {
          "base_uri": "https://localhost:8080/",
          "height": 134
        }
      },
      "source": [
        "#1\n",
        "import math\n",
        "\n",
        "class MyTime:\n",
        "\n",
        "    def __init__(self, hrs=0, mins=0, secs=0):\n",
        "\n",
        "        self.hrs = hrs\n",
        "        self.mins = mins\n",
        "        self.secs = secs\n",
        "\n",
        "    def __str__(self):\n",
        "        return \"{}:{}:{}\".format(self.hrs, self.mins, self.secs)\n",
        "\n",
        "    def comparetime(self, time):\n",
        "        dh = int(math.fabs(time.hrs - self.hrs))\n",
        "        dm = int(math.fabs(time.mins - self.mins))\n",
        "        ds = int(math.fabs(time.secs - self.secs))\n",
        "        dh = dh * 60\n",
        "        if ds >= 30:\n",
        "            dm += 1\n",
        "        return dh + dm\n",
        "\n",
        "a = MyTime(11,20,43)\n",
        "b = MyTime(10,20,30)\n",
        "print(a)\n",
        "print(b)\n",
        "print(\"The interval minutes are about:\", a.comparetime(b))\n",
        "\n",
        "punch_in = MyTime(8, 47, 2)         # Clock in to work at 8:47:02 am\n",
        "punch_out = MyTime(17, 34, 51)      # Clock out of work at 5:34:51 pm\n",
        "print(\"\\nIN:\", punch_in)\n",
        "print(\"OUT:\", punch_out)\n",
        "print(\"Minutes spent working:\", punch_in.comparetime(punch_out))"
      ],
      "execution_count": 0,
      "outputs": [
        {
          "output_type": "stream",
          "text": [
            "11:20:43\n",
            "10:20:30\n",
            "The interval minutes are about: 60\n",
            "\n",
            "IN: 8:47:2\n",
            "OUT: 17:34:51\n",
            "Minutes spent working: 554\n"
          ],
          "name": "stdout"
        }
      ]
    },
    {
      "cell_type": "code",
      "metadata": {
        "id": "aAsI2XE5cd2t",
        "colab_type": "code",
        "outputId": "14d5157c-6d6c-4e27-915d-d6b4e2342566",
        "colab": {
          "base_uri": "https://localhost:8080/",
          "height": 84
        }
      },
      "source": [
        "#2\n",
        "\n",
        "class Card:\n",
        "\n",
        "    suits = [\"Clubs\", \"Diamonds\", \"Hearts\", \"Spades\"]\n",
        "    ranks = [\"narf\", \"A\", \"2\", \"3\", \"4\", \"5\", \"6\", \"7\", \"8\", \"9\", \"10\", \"J\", \"Q\", \"K\"]      # 1-13\n",
        "\n",
        "    def __init__(self, suit=0, rank=0):\n",
        "        self.suit = suit\n",
        "        self.rank = rank\n",
        "\n",
        "    def __str__(self):\n",
        "        return (self.ranks[self.rank]+\" of \"+self.suits[self.suit])\n",
        "\n",
        "    def cmp(self, other):\n",
        "\n",
        "        hi_A = True\n",
        "        if hi_A == True:\n",
        "            if self.rank == 1:\n",
        "                self.rank = 14\n",
        "            if other.rank == 1:\n",
        "                other.rank = 14\n",
        "\n",
        "        if self.suit > other.suit: return 1\n",
        "        if self.suit < other.suit: return -1\n",
        "        if self.rank > other.rank: return 1\n",
        "        if self.rank < other.rank: return -1\n",
        "        return 0\n",
        "\n",
        "    def __eq__(self, other):\n",
        "        return self.cmp(other)==0\n",
        "    def __le__(self, other):\n",
        "        return self.cmp(other)<=0\n",
        "    def __ge__(self, other):\n",
        "        return self.cmp(other)>=0\n",
        "    def __gt__(self, other):\n",
        "        return self.cmp(other)>0\n",
        "    def __lt__(self, other):\n",
        "        return self.cmp(other)<0\n",
        "    def __ne__(self, other):\n",
        "        return self.cmp(other)!=0\n",
        "\n",
        "a = Card(2,1)\n",
        "b = Card(2,13)\n",
        "\n",
        "print(\"a:\",a)\n",
        "print(\"b:\",b)\n",
        "\n",
        "print(a.cmp(b))\n",
        "print(a.rank>b.rank)"
      ],
      "execution_count": 0,
      "outputs": [
        {
          "output_type": "stream",
          "text": [
            "a: A of Hearts\n",
            "b: K of Hearts\n",
            "1\n",
            "True\n"
          ],
          "name": "stdout"
        }
      ]
    },
    {
      "cell_type": "code",
      "metadata": {
        "id": "X6dTe2eBUzvX",
        "colab_type": "code",
        "colab": {
          "base_uri": "https://localhost:8080/",
          "height": 67
        },
        "outputId": "e1d51a76-60b3-47b4-fdda-9b8d764e490f"
      },
      "source": [
        "#3\n",
        "\n",
        "\n",
        "def readposint():\n",
        "    inpt = input(\"Please enter a positive integer: \")\n",
        "    try:\n",
        "        inpt = int(inpt)\n",
        "    except ValueError:\n",
        "        print(\"{} is not an integer number.\".format(inpt))\n",
        "    else:\n",
        "        if inpt <= 0:\n",
        "            raise ValueError(\"{} is not positive.\".format(inpt))\n",
        "    finally:\n",
        "        print(\"\\nThank you.\")\n",
        "\n",
        "\n",
        "readposint()\n",
        "\n"
      ],
      "execution_count": 1,
      "outputs": [
        {
          "output_type": "stream",
          "text": [
            "Please enter a positive integer: 6\n",
            "\n",
            "Thank you.\n"
          ],
          "name": "stdout"
        }
      ]
    }
  ]
}