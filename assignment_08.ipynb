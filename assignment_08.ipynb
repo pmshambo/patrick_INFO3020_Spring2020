{
  "nbformat": 4,
  "nbformat_minor": 0,
  "metadata": {
    "colab": {
      "name": "assignment_08.ipynb",
      "provenance": [],
      "collapsed_sections": [],
      "authorship_tag": "ABX9TyOwq6aeMoxOFd2Rrc2knJr2",
      "include_colab_link": true
    },
    "kernelspec": {
      "name": "python3",
      "display_name": "Python 3"
    }
  },
  "cells": [
    {
      "cell_type": "markdown",
      "metadata": {
        "id": "view-in-github",
        "colab_type": "text"
      },
      "source": [
        "<a href=\"https://colab.research.google.com/github/pmshambo/patrick_INFO3020_Spring2020/blob/master/assignment_08.ipynb\" target=\"_parent\"><img src=\"https://colab.research.google.com/assets/colab-badge.svg\" alt=\"Open In Colab\"/></a>"
      ]
    },
    {
      "cell_type": "code",
      "metadata": {
        "id": "ahwfhSvwjh2p",
        "colab_type": "code",
        "colab": {
          "base_uri": "https://localhost:8080/",
          "height": 118
        },
        "outputId": "5d093927-f42e-4654-c15b-dc197d622c37"
      },
      "source": [
        "# 1\n",
        "import math\n",
        "\n",
        "class Point:\n",
        "    def __init__(self, x=0, y=0):\n",
        "        self.x = x\n",
        "        self.y = y\n",
        "    def __str__(self):\n",
        "        return \"({},{})\".format(self.x, self.y)\n",
        "\n",
        "def distance(a,b):    # (initial, final)   |   b - a   |   final - initial\n",
        "    dx = b.x - a.x\n",
        "    dy = b.y - a.y\n",
        "    return math.sqrt((dx**2) + (dy**2))\n",
        "\n",
        "o = Point()   # Origin\n",
        "a = Point(8,2)\n",
        "b = Point(5,6)\n",
        "\n",
        "print(o)\n",
        "print(a)\n",
        "print(b, '\\n')\n",
        "print(distance(a,b))\n",
        "print(distance(o,b))\n"
      ],
      "execution_count": 3,
      "outputs": [
        {
          "output_type": "stream",
          "text": [
            "(0,0)\n",
            "(8,2)\n",
            "(5,6) \n",
            "\n",
            "5.0\n",
            "7.810249675906654\n"
          ],
          "name": "stdout"
        }
      ]
    },
    {
      "cell_type": "code",
      "metadata": {
        "id": "W6Nkx_RKklhv",
        "colab_type": "code",
        "colab": {
          "base_uri": "https://localhost:8080/",
          "height": 134
        },
        "outputId": "165da9e2-3a08-45ab-ca25-ec326e3314b9"
      },
      "source": [
        "# 2\n",
        "class Point:\n",
        "  def __init__(self, x=0, y=0):\n",
        "    self.x = x\n",
        "    self.y = y\n",
        "  def __str__(self):\n",
        "    return \"({},{})\".format(self.x, self.y)\n",
        "\n",
        "  def reflect_x(self):\n",
        "      return Point(self.x, -1 * self.y)\n",
        "\n",
        "a = Point()\n",
        "b = Point(1,2)\n",
        "c = Point(5,7)\n",
        "\n",
        "print(a)\n",
        "print(b)\n",
        "print(c,'\\n')\n",
        "\n",
        "print(a.reflect_x())\n",
        "print(b.reflect_x())\n",
        "print(c.reflect_x())"
      ],
      "execution_count": 6,
      "outputs": [
        {
          "output_type": "stream",
          "text": [
            "(0,0)\n",
            "(1,2)\n",
            "(5,7) \n",
            "\n",
            "(0,0)\n",
            "(1,-2)\n",
            "(5,-7)\n"
          ],
          "name": "stdout"
        }
      ]
    },
    {
      "cell_type": "code",
      "metadata": {
        "id": "igaavEtLm6I_",
        "colab_type": "code",
        "colab": {
          "base_uri": "https://localhost:8080/",
          "height": 363
        },
        "outputId": "6d09f982-2db9-46f2-d18e-10d7f31413f4"
      },
      "source": [
        "# 3\n",
        "from Point_class import Point\n",
        "\n",
        "class Rectangle:\n",
        "\n",
        "    def __init__(self, pos, w=0, h=0):\n",
        "        self.corner = pos\n",
        "        self.w = w\n",
        "        self.h = h\n",
        "    def __str__(self):\n",
        "        return \"[{}, {}, {}]\".format(self.corner, self.w, self.h)\n",
        "\n",
        "    def area(self):\n",
        "        return (self.w * self.h)\n",
        "\n",
        "\n",
        "a = Rectangle(Point(), 50, 100)\n",
        "b = Rectangle(Point(50,50), 300, 60)\n",
        "\n",
        "print(a)\n",
        "print(b,'\\n')\n",
        "\n",
        "print(a.area())\n",
        "print(b.area())\n"
      ],
      "execution_count": 9,
      "outputs": [
        {
          "output_type": "error",
          "ename": "ModuleNotFoundError",
          "evalue": "ignored",
          "traceback": [
            "\u001b[0;31m---------------------------------------------------------------------------\u001b[0m",
            "\u001b[0;31mModuleNotFoundError\u001b[0m                       Traceback (most recent call last)",
            "\u001b[0;32m<ipython-input-9-e7450fd6cddc>\u001b[0m in \u001b[0;36m<module>\u001b[0;34m()\u001b[0m\n\u001b[0;32m----> 1\u001b[0;31m \u001b[0;32mfrom\u001b[0m \u001b[0mPoint_class\u001b[0m \u001b[0;32mimport\u001b[0m \u001b[0mPoint\u001b[0m\u001b[0;34m\u001b[0m\u001b[0;34m\u001b[0m\u001b[0m\n\u001b[0m\u001b[1;32m      2\u001b[0m \u001b[0;34m\u001b[0m\u001b[0m\n\u001b[1;32m      3\u001b[0m \u001b[0;32mclass\u001b[0m \u001b[0mRectangle\u001b[0m\u001b[0;34m:\u001b[0m\u001b[0;34m\u001b[0m\u001b[0;34m\u001b[0m\u001b[0m\n\u001b[1;32m      4\u001b[0m \u001b[0;34m\u001b[0m\u001b[0m\n\u001b[1;32m      5\u001b[0m     \u001b[0;32mdef\u001b[0m \u001b[0m__init__\u001b[0m\u001b[0;34m(\u001b[0m\u001b[0mself\u001b[0m\u001b[0;34m,\u001b[0m \u001b[0mpos\u001b[0m\u001b[0;34m,\u001b[0m \u001b[0mw\u001b[0m\u001b[0;34m=\u001b[0m\u001b[0;36m0\u001b[0m\u001b[0;34m,\u001b[0m \u001b[0mh\u001b[0m\u001b[0;34m=\u001b[0m\u001b[0;36m0\u001b[0m\u001b[0;34m)\u001b[0m\u001b[0;34m:\u001b[0m\u001b[0;34m\u001b[0m\u001b[0;34m\u001b[0m\u001b[0m\n",
            "\u001b[0;31mModuleNotFoundError\u001b[0m: No module named 'Point_class'",
            "",
            "\u001b[0;31m---------------------------------------------------------------------------\u001b[0;32m\nNOTE: If your import is failing due to a missing package, you can\nmanually install dependencies using either !pip or !apt.\n\nTo view examples of installing some common dependencies, click the\n\"Open Examples\" button below.\n\u001b[0;31m---------------------------------------------------------------------------\u001b[0m\n"
          ]
        }
      ]
    },
    {
      "cell_type": "code",
      "metadata": {
        "id": "w4PuE-Xiwi-f",
        "colab_type": "code",
        "colab": {
          "base_uri": "https://localhost:8080/",
          "height": 363
        },
        "outputId": "669ecdc6-eb5a-48dc-9f6e-a647b82562ec"
      },
      "source": [
        "# 4\n",
        "from Point_class import Point\n",
        "\n",
        "class Rectangle:\n",
        "\n",
        "    def __init__(self, pos, w=0, h=0):\n",
        "        self.corner = pos\n",
        "        self.w = w\n",
        "        self.h = h\n",
        "    def __str__(self):\n",
        "        return \"[{}, {}, {}]\".format(self.corner, self.w, self.h)\n",
        "\n",
        "    def flip(self):\n",
        "        return Rectangle(self.corner, self.h, self.w)\n",
        "\n",
        "a = Rectangle(Point(), 50, 100)\n",
        "b = Rectangle(Point(50,50), 300, 60)\n",
        "\n",
        "print(a)\n",
        "print(b,'\\n')\n",
        "print(a.flip())\n",
        "print(b.flip())"
      ],
      "execution_count": 10,
      "outputs": [
        {
          "output_type": "error",
          "ename": "ModuleNotFoundError",
          "evalue": "ignored",
          "traceback": [
            "\u001b[0;31m---------------------------------------------------------------------------\u001b[0m",
            "\u001b[0;31mModuleNotFoundError\u001b[0m                       Traceback (most recent call last)",
            "\u001b[0;32m<ipython-input-10-7e13ca703b87>\u001b[0m in \u001b[0;36m<module>\u001b[0;34m()\u001b[0m\n\u001b[0;32m----> 1\u001b[0;31m \u001b[0;32mfrom\u001b[0m \u001b[0mPoint_class\u001b[0m \u001b[0;32mimport\u001b[0m \u001b[0mPoint\u001b[0m\u001b[0;34m\u001b[0m\u001b[0;34m\u001b[0m\u001b[0m\n\u001b[0m\u001b[1;32m      2\u001b[0m \u001b[0;34m\u001b[0m\u001b[0m\n\u001b[1;32m      3\u001b[0m \u001b[0;32mclass\u001b[0m \u001b[0mRectangle\u001b[0m\u001b[0;34m:\u001b[0m\u001b[0;34m\u001b[0m\u001b[0;34m\u001b[0m\u001b[0m\n\u001b[1;32m      4\u001b[0m \u001b[0;34m\u001b[0m\u001b[0m\n\u001b[1;32m      5\u001b[0m     \u001b[0;32mdef\u001b[0m \u001b[0m__init__\u001b[0m\u001b[0;34m(\u001b[0m\u001b[0mself\u001b[0m\u001b[0;34m,\u001b[0m \u001b[0mpos\u001b[0m\u001b[0;34m,\u001b[0m \u001b[0mw\u001b[0m\u001b[0;34m=\u001b[0m\u001b[0;36m0\u001b[0m\u001b[0;34m,\u001b[0m \u001b[0mh\u001b[0m\u001b[0;34m=\u001b[0m\u001b[0;36m0\u001b[0m\u001b[0;34m)\u001b[0m\u001b[0;34m:\u001b[0m\u001b[0;34m\u001b[0m\u001b[0;34m\u001b[0m\u001b[0m\n",
            "\u001b[0;31mModuleNotFoundError\u001b[0m: No module named 'Point_class'",
            "",
            "\u001b[0;31m---------------------------------------------------------------------------\u001b[0;32m\nNOTE: If your import is failing due to a missing package, you can\nmanually install dependencies using either !pip or !apt.\n\nTo view examples of installing some common dependencies, click the\n\"Open Examples\" button below.\n\u001b[0;31m---------------------------------------------------------------------------\u001b[0m\n"
          ]
        }
      ]
    },
    {
      "cell_type": "code",
      "metadata": {
        "id": "GBCw4--RwqKt",
        "colab_type": "code",
        "colab": {}
      },
      "source": [
        "# 5\n",
        "from Point_class import Point\n",
        "\n",
        "class Rectangle:\n",
        "\n",
        "    def __init__(self, pos, w=0, h=0):\n",
        "        self.corner = pos\n",
        "        self.w = w\n",
        "        self.h = h\n",
        "    def __str__(self):\n",
        "        return \"[{}, {}, {}]\".format(self.corner, self.w, self.h)\n",
        "\n",
        "    def falls_within(self, p):\n",
        "        if (p.x >= self.corner.x and p.x < (self.corner.x + self.w)) and (p.y >= self.corner.y and p.y < (self.corner.y + self.h)):\n",
        "            return print(\"Point {} falls within Rectangle.\".format(p))\n",
        "        else:\n",
        "            return print(\"Point {} does NOT fall within Rectangle.\".format(p))\n",
        "\n",
        "a = Rectangle(Point(), 10, 5)\n",
        "\n",
        "p1 = Point(3,3)    #   POINT TO TEST\n",
        "p2 = Point(10,5)\n",
        "p3 = Point(0,0)\n",
        "p4 = Point(20,15)\n",
        "print(a,'\\n')\n",
        "\n",
        "a.falls_within(p1)\n",
        "a.falls_within(p2)\n",
        "a.falls_within(p3)\n",
        "a.falls_within(p4)"
      ],
      "execution_count": 0,
      "outputs": []
    }
  ]
}