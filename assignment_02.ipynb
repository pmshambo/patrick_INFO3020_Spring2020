{
  "nbformat": 4,
  "nbformat_minor": 0,
  "metadata": {
    "colab": {
      "name": "assignment_02.ipynb",
      "provenance": [],
      "collapsed_sections": [],
      "authorship_tag": "ABX9TyO+R0dhzmI3xEUpgNfo8f1g",
      "include_colab_link": true
    },
    "kernelspec": {
      "name": "python3",
      "display_name": "Python 3"
    }
  },
  "cells": [
    {
      "cell_type": "markdown",
      "metadata": {
        "id": "view-in-github",
        "colab_type": "text"
      },
      "source": [
        "<a href=\"https://colab.research.google.com/github/pmshambo/patrick_INFO3020_Spring2020/blob/master/assignment_02.ipynb\" target=\"_parent\"><img src=\"https://colab.research.google.com/assets/colab-badge.svg\" alt=\"Open In Colab\"/></a>"
      ]
    },
    {
      "cell_type": "code",
      "metadata": {
        "id": "M2sE9lrhlkDR",
        "colab_type": "code",
        "colab": {}
      },
      "source": [
        ""
      ],
      "execution_count": 0,
      "outputs": []
    },
    {
      "cell_type": "code",
      "metadata": {
        "id": "XlYxcQ9EmOHP",
        "colab_type": "code",
        "colab": {
          "base_uri": "https://localhost:8080/",
          "height": 34
        },
        "outputId": "53295ec8-65e6-40da-f670-d222917d5ceb"
      },
      "source": [
        "# Part 1\n",
        "a = \"All\"\n",
        "b = \"work\"\n",
        "c = \"and\"\n",
        "d = \"no\"\n",
        "e = \"play\"\n",
        "f = \"makes\"\n",
        "g = \"Jack\"\n",
        "h = \"a\"\n",
        "i = \"dull\"\n",
        "j = \"boy.\"\n",
        "k = \" \"\n",
        "print(a+k+b+k+c+k+d+k+e+k+f+k+g+k+h+k+i+k+j)"
      ],
      "execution_count": 1,
      "outputs": [
        {
          "output_type": "stream",
          "text": [
            "All work and no play makes Jack a dull boy.\n"
          ],
          "name": "stdout"
        }
      ]
    },
    {
      "cell_type": "code",
      "metadata": {
        "id": "hnQVQDoCnICU",
        "colab_type": "code",
        "colab": {
          "base_uri": "https://localhost:8080/",
          "height": 68
        },
        "outputId": "fead5102-3229-4940-c0b0-f513377632ab"
      },
      "source": [
        "# Part 2\n",
        "x = float(input(\"What is a? \"))\n",
        "y = float(input(\"What is b? \"))\n",
        "s = 3.14 * (1 + (x / y))**3\n",
        "print(\"S = \", s)"
      ],
      "execution_count": 4,
      "outputs": [
        {
          "output_type": "stream",
          "text": [
            "What is a?6\n",
            "What is b?3\n",
            "S =  84.78\n"
          ],
          "name": "stdout"
        }
      ]
    }
  ]
}