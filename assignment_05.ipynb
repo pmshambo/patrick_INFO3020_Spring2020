{
  "nbformat": 4,
  "nbformat_minor": 0,
  "metadata": {
    "colab": {
      "name": "assignment_05.ipynb",
      "provenance": [],
      "collapsed_sections": [],
      "authorship_tag": "ABX9TyONQTEVqSAdXAaD6ZdDHiou",
      "include_colab_link": true
    },
    "kernelspec": {
      "name": "python3",
      "display_name": "Python 3"
    }
  },
  "cells": [
    {
      "cell_type": "markdown",
      "metadata": {
        "id": "view-in-github",
        "colab_type": "text"
      },
      "source": [
        "<a href=\"https://colab.research.google.com/github/pmshambo/patrick_INFO3020_Spring2020/blob/master/assignment_05.ipynb\" target=\"_parent\"><img src=\"https://colab.research.google.com/assets/colab-badge.svg\" alt=\"Open In Colab\"/></a>"
      ]
    },
    {
      "cell_type": "code",
      "metadata": {
        "id": "RQ0FkTtg3HAn",
        "colab_type": "code",
        "colab": {
          "base_uri": "https://localhost:8080/",
          "height": 50
        },
        "outputId": "ddffda65-b8a6-4422-b17c-0c92bb372532"
      },
      "source": [
        "#1\n",
        "def main():\n",
        "\n",
        "    data = ((101, \"James\", (\"History\", \"Biology\", \"Physics\")), (102, \"Kim\", (\"Psychology\", \"Geology\", \"Calculus\")),\n",
        "             (103, \"Bill\", (\"Music\", \"Art\", \"Biology\")), (104, \"Kyle\", (\"Biology\", \"Physics\", \"Algebra\")))\n",
        "\n",
        "\n",
        "    def student_data(data, name):\n",
        "\n",
        "        for i in range (len(data)):\n",
        "\n",
        "            if name == data[i][1]:\n",
        "\n",
        "                return data[i][2]\n",
        "\n",
        "\n",
        "    name = input(\"Student's First Name? \")\n",
        "    print(student_data(data, name))\n",
        "\n",
        "\n",
        "\n",
        "main()"
      ],
      "execution_count": 20,
      "outputs": [
        {
          "output_type": "stream",
          "text": [
            "Student's First Name? James\n",
            "('History', 'Biology', 'Physics')\n"
          ],
          "name": "stdout"
        }
      ]
    },
    {
      "cell_type": "code",
      "metadata": {
        "id": "gHOe5cN74FKP",
        "colab_type": "code",
        "colab": {
          "base_uri": "https://localhost:8080/",
          "height": 50
        },
        "outputId": "138bcad0-07cb-4531-caea-c50e503bcf5f"
      },
      "source": [
        "#2\n",
        "\n",
        "def main():\n",
        "\n",
        "    def matrix_making(m,n,p):\n",
        "\n",
        "        matrix = []\n",
        "        m2 = []\n",
        "\n",
        "        for i in range (m):\n",
        "\n",
        "\n",
        "            while len(m2) < n:\n",
        "\n",
        "                m2.append(p)\n",
        "                p += 1\n",
        "\n",
        "            matrix.append(m2)\n",
        "\n",
        "        return matrix\n",
        "\n",
        "    def find_matrix(x, y):\n",
        "\n",
        "        for k in range (len(y)):\n",
        "\n",
        "            for l in range (len(y[k])):\n",
        "\n",
        "                if y[k][l] == x:\n",
        "                    return (k,l)\n",
        "                elif y[k][l] != x:\n",
        "                    continue\n",
        "                else:\n",
        "                    return -1\n",
        "\n",
        "    matrix = matrix_making(4,6,0)\n",
        "    print(find_matrix(4, matrix))\n",
        "\n",
        "\n",
        "    print(matrix_making(4,6,0))\n",
        "\n",
        "\n",
        "\n",
        "main()\n",
        "\n",
        "\n"
      ],
      "execution_count": 22,
      "outputs": [
        {
          "output_type": "stream",
          "text": [
            "(0, 4)\n",
            "[[0, 1, 2, 3, 4, 5], [0, 1, 2, 3, 4, 5], [0, 1, 2, 3, 4, 5], [0, 1, 2, 3, 4, 5]]\n"
          ],
          "name": "stdout"
        }
      ]
    },
    {
      "cell_type": "code",
      "metadata": {
        "id": "CQ_HwxUF4uJ7",
        "colab_type": "code",
        "colab": {
          "base_uri": "https://localhost:8080/",
          "height": 319
        },
        "outputId": "4b0a3ff3-0db5-4009-f0ae-2a4d4c49f67a"
      },
      "source": [
        "#3\n",
        "\n",
        "def phrase_dict(p):\n",
        "\n",
        "    x = dict()\n",
        "\n",
        "    for i in p:\n",
        "\n",
        "        if i not in x:\n",
        "\n",
        "            x[i] = 1\n",
        "        else:\n",
        "            x[i] += 1\n",
        "\n",
        "    return x\n",
        "\n",
        "p = \"Here is a phrase to put in the dictionary! The phrase is ready to be organized. It goes in the dictionary!\"\n",
        "p = p.split()\n",
        "print(phrase_dict(p))\n",
        "\n",
        "def dict_list(p):\n",
        "\n",
        "    print(\"Word\\t\\tCount\")\n",
        "    print(\"=====================\")\n",
        "\n",
        "    for x in p:\n",
        "        print(x, end = \" \")\n",
        "\n",
        "        if len(x) > 6:\n",
        "          print('\\t', p[x])\n",
        "        else:\n",
        "          print('\\t\\t', p[x])\n",
        "\n",
        "\n",
        "\n",
        "p = phrase_dict(p)\n",
        "dict_list(p)"
      ],
      "execution_count": 23,
      "outputs": [
        {
          "output_type": "stream",
          "text": [
            "{'Here': 1, 'is': 2, 'a': 1, 'phrase': 2, 'to': 2, 'put': 1, 'in': 2, 'the': 2, 'dictionary!': 2, 'The': 1, 'ready': 1, 'be': 1, 'organized.': 1, 'It': 1, 'goes': 1}\n",
            "Word\t\tCount\n",
            "=====================\n",
            "Here \t\t 1\n",
            "is \t\t 2\n",
            "a \t\t 1\n",
            "phrase \t\t 2\n",
            "to \t\t 2\n",
            "put \t\t 1\n",
            "in \t\t 2\n",
            "the \t\t 2\n",
            "dictionary! \t 2\n",
            "The \t\t 1\n",
            "ready \t\t 1\n",
            "be \t\t 1\n",
            "organized. \t 1\n",
            "It \t\t 1\n",
            "goes \t\t 1\n"
          ],
          "name": "stdout"
        }
      ]
    }
  ]
}