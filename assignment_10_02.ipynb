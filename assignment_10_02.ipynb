{
  "nbformat": 4,
  "nbformat_minor": 0,
  "metadata": {
    "colab": {
      "name": "assignment_10_02.ipynb",
      "provenance": [],
      "collapsed_sections": [],
      "authorship_tag": "ABX9TyPZwurkciShKsRTgrlgnsUF",
      "include_colab_link": true
    },
    "kernelspec": {
      "name": "python3",
      "display_name": "Python 3"
    }
  },
  "cells": [
    {
      "cell_type": "markdown",
      "metadata": {
        "id": "view-in-github",
        "colab_type": "text"
      },
      "source": [
        "<a href=\"https://colab.research.google.com/github/pmshambo/patrick_INFO3020_Spring2020/blob/master/assignment_10_02.ipynb\" target=\"_parent\"><img src=\"https://colab.research.google.com/assets/colab-badge.svg\" alt=\"Open In Colab\"/></a>"
      ]
    },
    {
      "cell_type": "code",
      "metadata": {
        "id": "HgkC26NEVmK6",
        "colab_type": "code",
        "colab": {}
      },
      "source": [
        "#1, 2, 3, 4, 5\n",
        "import pymysql\n",
        "\n",
        "def add_stu():\n",
        "    db = pymysql.connect(\"localhost\", \"root\", \"INFO3020\", \"pydb\")\n",
        "    dbcursor = db.cursor()\n",
        "    sql = \"insert into tstudent(stuname, major, stuyear, tuition, pctpaid) values(%s, %s, %s, %s, %s)\"\n",
        "    stuname = input(\"Student Name: \")\n",
        "    major = input(\"Major: \")\n",
        "    stuyear = int(input(\"Student Year [1-8]: \"))\n",
        "    tuition = int(input(\"Tuition: \"))\n",
        "    pctpaid = float(input(\"Percent Paid?: \"))\n",
        "    variables = (stuname, major, stuyear, tuition, pctpaid)\n",
        "    command = dbcursor.execute(sql, variables)\n",
        "    db.commit()\n",
        "    dbcursor.close()\n",
        "    db.close()\n",
        "\n",
        "def rem_stu():\n",
        "    db = pymysql.connect(\"localhost\", \"root\", \"INFO3020\", \"pydb\")\n",
        "    dbcursor = db.cursor()\n",
        "    sql = \"delete from tstudent where stuid=%s\"\n",
        "    stuid = int(input(\"Input Student ID to Delete: \"))\n",
        "    command = dbcursor.execute(sql, stuid)\n",
        "    db.commit()\n",
        "    dbcursor.close()\n",
        "    db.close()\n",
        "\n",
        "def update_stuname():\n",
        "    db = pymysql.connect(\"localhost\", \"root\", \"INFO3020\", \"pydb\")\n",
        "    dbcursor = db.cursor()\n",
        "    sql = \"update tstudent set stuname=%s where stuid=%s\"\n",
        "    id = int(input(\"Input Student's ID: \"))\n",
        "    newname = input(\"Input Student's Updated Name: \")\n",
        "    variables = (newname, id)\n",
        "    command = dbcursor.execute(sql, variables)\n",
        "    db.commit()\n",
        "    dbcursor.close()\n",
        "    db.close()\n",
        "\n",
        "def major_count():\n",
        "    db = pymysql.connect(\"localhost\", \"root\", \"INFO3020\", \"pydb\")\n",
        "    dbcursor = db.cursor()\n",
        "    sql = \"select * from tstudent where major=%s\"\n",
        "    variable = input(\"Input Major to Count: \")\n",
        "    command = dbcursor.execute(sql, variable)\n",
        "    results = dbcursor.fetchall()       #fetchone??\n",
        "    dbcursor.close()\n",
        "    db.close()\n",
        "    return len(results)\n",
        "\n",
        "def get_stu():      #From command line? If the information is random, what goes in the command line?\n",
        "    import random\n",
        "    db = pymysql.connect(\"localhost\", \"root\", \"INFO3020\", \"pydb\")\n",
        "    dbcursor = db.cursor()\n",
        "    sql = \"select * from tstudent where stuid=%s\"\n",
        "    length = len(read_stu())\n",
        "    variable = random.randint(1, length)\n",
        "    command = dbcursor.execute(sql, variable)\n",
        "    result = dbcursor.fetchone()\n",
        "    dbcursor.close()\n",
        "    db.close()\n",
        "    return result[0], result[1]\n",
        "\n",
        "def read_stu():\n",
        "    db = pymysql.connect(\"localhost\", \"root\", \"INFO3020\", \"pydb\")\n",
        "    dbcursor = db.cursor()\n",
        "    sql = \"select * from tstudent\"\n",
        "    command = dbcursor.execute(sql)\n",
        "    stuinfo = dbcursor.fetchall()\n",
        "    dbcursor.close()\n",
        "    db.close()\n",
        "    return stuinfo\n",
        "\n",
        "def info_print():\n",
        "    info = read_stu()\n",
        "    print(\"stuid \\t stuname \\t major \\t\\t\\t\\t year \\t\\t tuition \\t pctpaid\")\n",
        "    print(\"------------------------------------------------------------------------\")\n",
        "    for row in info:\n",
        "        if len(row[2]) < 16:\n",
        "            print(str(row[0])+\"\\t\\t\"+row[1]+\"\\t\\t\"+row[2]+\"\\t\\t\\t\"+str(row[3])+\"\\t\\t\"+str(row[4])+\"\\t\\t\"+str(row[5]))\n",
        "        else:\n",
        "            print(str(row[0]) + \"\\t\\t\" + row[1] + \"\\t\\t\" + row[2] + \"\\t\\t\" + str(row[3]) + \"\\t\\t\" + str(row[4]) + \"\\t\\t\" + str(row[5]))\n",
        "\n"
      ],
      "execution_count": 0,
      "outputs": []
    },
    {
      "cell_type": "code",
      "metadata": {
        "id": "XXOo2XfMWPd-",
        "colab_type": "code",
        "colab": {}
      },
      "source": [
        ""
      ],
      "execution_count": 0,
      "outputs": []
    }
  ]
}