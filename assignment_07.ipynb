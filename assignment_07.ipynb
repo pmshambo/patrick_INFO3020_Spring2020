{
  "nbformat": 4,
  "nbformat_minor": 0,
  "metadata": {
    "colab": {
      "name": "assignment_07.ipynb",
      "provenance": [],
      "collapsed_sections": [],
      "authorship_tag": "ABX9TyNz54QAKzrUkq+fN/sGSRsh",
      "include_colab_link": true
    },
    "kernelspec": {
      "name": "python3",
      "display_name": "Python 3"
    }
  },
  "cells": [
    {
      "cell_type": "markdown",
      "metadata": {
        "id": "view-in-github",
        "colab_type": "text"
      },
      "source": [
        "<a href=\"https://colab.research.google.com/github/pmshambo/patrick_INFO3020_Spring2020/blob/master/assignment_07.ipynb\" target=\"_parent\"><img src=\"https://colab.research.google.com/assets/colab-badge.svg\" alt=\"Open In Colab\"/></a>"
      ]
    },
    {
      "cell_type": "code",
      "metadata": {
        "id": "P0vxp_ua7gTY",
        "colab_type": "code",
        "colab": {}
      },
      "source": [
        "#1\n",
        "import turtle\n",
        "import math\n",
        "\n",
        "def t_recurs(a, size, order):\n",
        "\n",
        "\n",
        "\n",
        "    if order == 0:\n",
        "        a.forward(size)\n",
        "\n",
        "\n",
        "    else:\n",
        "\n",
        "        t_recurs(a, size / 2, order - 1)\n",
        "        a.left(90)\n",
        "        t_recurs(a, size / 2, order - 1)\n",
        "        a.left(90)\n",
        "        t_recurs(a, size / 2, order - 1)\n",
        "        a.left(90)\n",
        "        t_recurs(a, size / 2, order - 1)\n",
        "        a.left(90)\n",
        "\n",
        "        a.penup()\n",
        "        a.left(45)\n",
        "        a.forward(math.sqrt((size / 4)**2 + (size/4)**2) / 2)\n",
        "        a.right(45)\n",
        "        a.pendown()\n",
        "\n",
        "        t_recurs(a, size / 2, order)\n",
        "    if size <= 15.6:\n",
        "        window.mainloop()\n",
        "\n",
        "\n",
        "window = turtle.Screen()\n",
        "a = turtle.Turtle()\n",
        "t_recurs(a, 500, 1)\n",
        "#window.mainloop()\n",
        "\n"
      ],
      "execution_count": 0,
      "outputs": []
    },
    {
      "cell_type": "code",
      "metadata": {
        "id": "l2zIFjUi8Fya",
        "colab_type": "code",
        "colab": {
          "base_uri": "https://localhost:8080/",
          "height": 34
        },
        "outputId": "ab8326f6-e6ed-49a8-9e95-839ea97a8c09"
      },
      "source": [
        "#2\n",
        "\n",
        "\n",
        "a = [[1,1,2,[1,1], [2,3,5,[6,7], 5, [2,3,[66,5]],[8,4,7], [1,5,3, [1,1,2,3,5,5],4]]]]\n",
        "b = []\n",
        "def find_nest(a, b, num, count):\n",
        "    for i in range (len(a)):\n",
        "        if type(a[i]) is list:\n",
        "            find_nest(a[i], b, num, count)\n",
        "        else:\n",
        "            b.append(a[i])\n",
        "\n",
        "\n",
        "    for j in range(len(b)):\n",
        "        if b[j] == num:\n",
        "            count += 1\n",
        "\n",
        "    return count\n",
        "\n",
        "\n",
        "\n",
        "\n",
        "                             # (a, b, num, count)\n",
        "print(find_nest(a, b, 5, 0)) # (5x nested list, empty list to fill with split list a, number to count, counter)"
      ],
      "execution_count": 1,
      "outputs": [
        {
          "output_type": "stream",
          "text": [
            "6\n"
          ],
          "name": "stdout"
        }
      ]
    }
  ]
}