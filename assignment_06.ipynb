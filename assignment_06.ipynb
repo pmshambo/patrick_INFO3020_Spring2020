{
  "nbformat": 4,
  "nbformat_minor": 0,
  "metadata": {
    "colab": {
      "name": "assignment_06.ipynb",
      "provenance": [],
      "collapsed_sections": [],
      "authorship_tag": "ABX9TyOM/eWl0+cFek6tlXtlXJYt",
      "include_colab_link": true
    },
    "kernelspec": {
      "name": "python3",
      "display_name": "Python 3"
    }
  },
  "cells": [
    {
      "cell_type": "markdown",
      "metadata": {
        "id": "view-in-github",
        "colab_type": "text"
      },
      "source": [
        "<a href=\"https://colab.research.google.com/github/pmshambo/patrick_INFO3020_Spring2020/blob/master/assignment_06.ipynb\" target=\"_parent\"><img src=\"https://colab.research.google.com/assets/colab-badge.svg\" alt=\"Open In Colab\"/></a>"
      ]
    },
    {
      "cell_type": "code",
      "metadata": {
        "id": "krOvpCMIPp-7",
        "colab_type": "code",
        "colab": {
          "base_uri": "https://localhost:8080/",
          "height": 34
        },
        "outputId": "5ab2d7aa-6ba7-4bff-b5ab-3ccf3604cbf9"
      },
      "source": [
        "#1\n",
        "import numpy as np\n",
        "\n",
        "def main():\n",
        "\n",
        "    def file_write(x):\n",
        "\n",
        "        with open('test 06.txt', 'w') as y:\n",
        "\n",
        "            #x = x.map(list,int)\n",
        "            for i in range(len(x)):\n",
        "\n",
        "                y.write(str(x[i]))\n",
        "                y.write(\" \")\n",
        "\n",
        "    x = [15, 25, 45, 55, 65, 750, 850, 950, 999]        #Variable list of numbers\n",
        "    file_write(x)\n",
        "\n",
        "    def file_read(x):\n",
        "\n",
        "        with open('test 06.txt', 'r') as y:\n",
        "            d = []\n",
        "            e = []\n",
        "            for c in y:\n",
        "                d.append(c)\n",
        "            d = d[0]\n",
        "            d = d.split()\n",
        "            cutoff = 100\n",
        "\n",
        "            for x in d:\n",
        "                if int(x) > cutoff:\n",
        "                    e.append(100)\n",
        "                else:\n",
        "                    e.append(int(x))\n",
        "            e = np.array(e)\n",
        "\n",
        "        with open('test 06_2.txt','w') as z:\n",
        "\n",
        "            for j in range(len(e)):\n",
        "                z.write(str(e[j]))\n",
        "                z.write(\" \")\n",
        "\n",
        "\n",
        "    print(file_read(x))\n",
        "\n",
        "main()"
      ],
      "execution_count": 1,
      "outputs": [
        {
          "output_type": "stream",
          "text": [
            "None\n"
          ],
          "name": "stdout"
        }
      ]
    },
    {
      "cell_type": "code",
      "metadata": {
        "id": "pBQ0tcn5QJ0K",
        "colab_type": "code",
        "colab": {
          "base_uri": "https://localhost:8080/",
          "height": 50
        },
        "outputId": "b78c3698-942a-4bb7-d2e1-74f5701d5a2e"
      },
      "source": [
        "#2\n",
        "import random\n",
        "\n",
        "roster = ((101, \"Paul\"), (102, \"Al\"), (103, \"Jamie\"), (104, \"Karen\"), (105, \"Riley\"), (106, \"Bill\"), (107, \"Josh\"), (108, \"Bob\"),\n",
        "              (109, \"Cal\"), (110, \"Harry\"), (111, \"Jen\"))\n",
        "\n",
        "def student_list(roster):\n",
        "\n",
        "    with open('test 06_3.txt','w') as x:\n",
        "\n",
        "        for i in range(len(roster)):        # 11\n",
        "\n",
        "            x.write(str(roster[i][0]))\n",
        "            x.write(\"  .........  \")\n",
        "            x.write(str(roster[i][1]))\n",
        "            x.write('\\n')\n",
        "def random_roll(roster):\n",
        "\n",
        "    with open('test 06_3.txt', 'r') as x:\n",
        "\n",
        "        lines = x.readlines()\n",
        "        num = random.randint(0, len(lines) + 1)\n",
        "\n",
        "        for i in range (len(lines)):\n",
        "            if i == num:\n",
        "                return str(lines[i])\n",
        "\n",
        "\n",
        "\n",
        "roster = student_list(roster)\n",
        "print(random_roll(roster))"
      ],
      "execution_count": 14,
      "outputs": [
        {
          "output_type": "stream",
          "text": [
            "111  .........  Jen\n",
            "\n"
          ],
          "name": "stdout"
        }
      ]
    }
  ]
}