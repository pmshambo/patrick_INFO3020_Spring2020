{
  "nbformat": 4,
  "nbformat_minor": 0,
  "metadata": {
    "colab": {
      "name": "assignment_10_01",
      "provenance": [],
      "collapsed_sections": [],
      "authorship_tag": "ABX9TyPFgHx6fgEhYx6frlL6N5UO",
      "include_colab_link": true
    },
    "kernelspec": {
      "name": "python3",
      "display_name": "Python 3"
    }
  },
  "cells": [
    {
      "cell_type": "markdown",
      "metadata": {
        "id": "view-in-github",
        "colab_type": "text"
      },
      "source": [
        "<a href=\"https://colab.research.google.com/github/pmshambo/patrick_INFO3020_Spring2020/blob/master/assignment_10_01.ipynb\" target=\"_parent\"><img src=\"https://colab.research.google.com/assets/colab-badge.svg\" alt=\"Open In Colab\"/></a>"
      ]
    },
    {
      "cell_type": "code",
      "metadata": {
        "id": "d0Feth9xVDZ2",
        "colab_type": "code",
        "colab": {}
      },
      "source": [
        "#1\n",
        "import pymysql\n",
        "\n",
        "def retrieve_country():\n",
        "    db = pymysql.connect(\"localhost\", \"root\", \"INFO3020\", \"world\")\n",
        "    dbcursor = db.cursor()\n",
        "    sql = \"select * from country\"\n",
        "    command = dbcursor.execute(sql)\n",
        "    data = dbcursor.fetchall()\n",
        "    dbcursor.close()\n",
        "    db.close()\n",
        "    return data\n",
        "\n",
        "def name_param(variable):\n",
        "    db = pymysql.connect(\"localhost\", \"root\", \"INFO3020\", \"world\")\n",
        "    dbcursor = db.cursor()\n",
        "    sql = \"select * from country where name=%s\"\n",
        "    command = dbcursor.execute(sql, variable)\n",
        "    name = dbcursor.fetchone()\n",
        "    dbcursor.close()\n",
        "    db.close()\n",
        "    return name\n",
        "\n",
        "#variable = 'Yemen'\n",
        "#variable = 'Bulgaria'\n",
        "variable = 'Congo'\n",
        "print(name_param(variable))\n",
        "\n"
      ],
      "execution_count": 0,
      "outputs": []
    },
    {
      "cell_type": "code",
      "metadata": {
        "id": "OXxD4ApcVe0t",
        "colab_type": "code",
        "colab": {}
      },
      "source": [
        "#2\n"
      ],
      "execution_count": 0,
      "outputs": []
    }
  ]
}